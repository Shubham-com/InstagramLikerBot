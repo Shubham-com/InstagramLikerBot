{
 "cells": [
  {
   "cell_type": "code",
   "execution_count": 1,
   "metadata": {},
   "outputs": [],
   "source": [
    "from selenium import webdriver\n",
    "import time"
   ]
  },
  {
   "cell_type": "code",
   "execution_count": 2,
   "metadata": {},
   "outputs": [],
   "source": [
    "driver = webdriver.Chrome(\"./chromedriver\")"
   ]
  },
  {
   "cell_type": "code",
   "execution_count": 3,
   "metadata": {},
   "outputs": [],
   "source": [
    "\n",
    "url = \"https://instagram.com\""
   ]
  },
  {
   "cell_type": "code",
   "execution_count": 4,
   "metadata": {},
   "outputs": [],
   "source": [
    "driver.get(url)"
   ]
  },
  {
   "cell_type": "code",
   "execution_count": 10,
   "metadata": {},
   "outputs": [],
   "source": [
    "username = \"dslr__shots\"\n",
    "\n",
    "url = \"https://instagram.com/{}\"\n",
    "\n",
    "driver.get(url.format(username))\n",
    "\n",
    "time.sleep(1)\n",
    "\n",
    "items = driver.find_elements_by_class_name(\"_9AhH0\")\n",
    "\n",
    "if len(items) > 0:\n",
    "    \n",
    "    items[0].click()\n",
    "    time.sleep(1)\n",
    "    presentations = driver.find_elements_by_css_selector('[role=\"presentation\"]')\n",
    "    counter = 20\n",
    "    \n",
    "    if len(presentations) >= 3:\n",
    "        major = presentations[2]\n",
    "\n",
    "        while counter > 0:\n",
    "\n",
    "    \n",
    "            likes = driver.find_elements_by_css_selector('[aria-label=\"Like\"]')\n",
    "            if len(likes) > 0:\n",
    "                likes[0].click()\n",
    "                counter -= 1\n",
    "\n",
    "            moves = driver.find_elements_by_class_name(\"coreSpriteRightPaginationArrow\")\n",
    "            if len(moves)>0:\n",
    "                moves[0].click()\n",
    "                time.sleep(2)\n",
    "            else:\n",
    "                break"
   ]
  },
  {
   "cell_type": "code",
   "execution_count": null,
   "metadata": {},
   "outputs": [],
   "source": []
  }
 ],
 "metadata": {
  "kernelspec": {
   "display_name": "Python 3",
   "language": "python",
   "name": "python3"
  },
  "language_info": {
   "codemirror_mode": {
    "name": "ipython",
    "version": 3
   },
   "file_extension": ".py",
   "mimetype": "text/x-python",
   "name": "python",
   "nbconvert_exporter": "python",
   "pygments_lexer": "ipython3",
   "version": "3.7.4"
  }
 },
 "nbformat": 4,
 "nbformat_minor": 2
}
